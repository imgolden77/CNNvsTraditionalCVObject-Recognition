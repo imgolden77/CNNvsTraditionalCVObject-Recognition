{
  "cells": [
    {
      "cell_type": "code",
      "execution_count": 1,
      "metadata": {
        "colab": {
          "base_uri": "https://localhost:8080/"
        },
        "id": "O2jnnNMydizn",
        "outputId": "5f00f248-cca5-4bbb-d672-620ad9f04e13"
      },
      "outputs": [
        {
          "name": "stdout",
          "output_type": "stream",
          "text": [
            "Libraries imported.\n"
          ]
        }
      ],
      "source": [
        "import torch\n",
        "import torch.nn as nn\n",
        "import torch.optim as optim\n",
        "import torch.nn.functional as F\n",
        "import torchvision\n",
        "import torchvision.transforms as transforms\n",
        "import matplotlib.pyplot as plt\n",
        "import numpy as np\n",
        "from torch.utils.data import DataLoader\n",
        "from torch.optim.lr_scheduler import ReduceLROnPlateau\n",
        "\n",
        "print('Libraries imported.')"
      ]
    },
    {
      "cell_type": "code",
      "execution_count": null,
      "metadata": {
        "colab": {
          "base_uri": "https://localhost:8080/"
        },
        "id": "CRJItDKinC8-",
        "outputId": "f746ca3e-ffb9-405d-9e26-4041e5bc5c7d"
      },
      "outputs": [
        {
          "name": "stdout",
          "output_type": "stream",
          "text": [
            "Main variables initialised.\n"
          ]
        }
      ],
      "source": [
        "# Training constants\n",
        "BATCH_SIZE = 32\n",
        "N_EPOCH = 120\n",
        "N_CLASSES = 10\n",
        "VERBOSE = 1\n",
        "VALIDATION_SPLIT = 0.2\n",
        "\n",
        "print('Main variables initialised.')"
      ]
    },
    {
      "cell_type": "code",
      "execution_count": 3,
      "metadata": {
        "colab": {
          "base_uri": "https://localhost:8080/"
        },
        "id": "JxnqE9z9m-rZ",
        "outputId": "361e868f-158a-488e-e134-88fdb542d749"
      },
      "outputs": [
        {
          "name": "stdout",
          "output_type": "stream",
          "text": [
            "Image variables initialisation\n"
          ]
        }
      ],
      "source": [
        "# STL-10 is a set of 13k images 96x96 pixels on 3 channels\n",
        "IMG_CHANNELS = 3\n",
        "IMG_ROWS = 96\n",
        "IMG_COLS = 96\n",
        "\n",
        "print('Image variables initialisation')"
      ]
    },
    {
      "cell_type": "code",
      "execution_count": 4,
      "metadata": {
        "colab": {
          "base_uri": "https://localhost:8080/"
        },
        "id": "wRVkedzbm-y8",
        "outputId": "56c5ac95-bc9f-4b7f-a385-3cdf75dfe8f0"
      },
      "outputs": [
        {
          "name": "stdout",
          "output_type": "stream",
          "text": [
            "Files already downloaded and verified\n"
          ]
        }
      ],
      "source": [
        "transform = transforms.Compose([\n",
        "    transforms.ToTensor(),\n",
        "    transforms.Normalize((0.5, 0.5, 0.5), (0.5, 0.5, 0.5))\n",
        "])\n",
        "\n",
        "# trainset = torchvision.datasets.STL10(root='./data', split='train', download=True, transform=transform)\n",
        "testset = torchvision.datasets.STL10(root='./data', split='test', download=True, transform=transform)\n",
        "\n",
        "# trainloader = DataLoader(trainset, batch_size=BATCH_SIZE, shuffle=True)\n",
        "testloader = DataLoader(testset, batch_size=BATCH_SIZE, shuffle=False)"
      ]
    },
    {
      "cell_type": "code",
      "execution_count": 5,
      "metadata": {
        "colab": {
          "base_uri": "https://localhost:8080/"
        },
        "id": "O-oCgwCrgGrf",
        "outputId": "04b45fb4-e483-4925-bb52-2f59958bc050"
      },
      "outputs": [
        {
          "name": "stdout",
          "output_type": "stream",
          "text": [
            "Files already downloaded and verified\n",
            "Augmenting training set images...\n"
          ]
        }
      ],
      "source": [
        "# Define data augmentation transformations using torchvision\n",
        "# This creates a composition of multiple image transformations that will be applied sequentially\n",
        "aug_transform = transforms.Compose([\n",
        "    # Randomly flip images horizontally with 0.5 probability\n",
        "    transforms.RandomHorizontalFlip(),\n",
        "\n",
        "    # Randomly rotate images by up to 40 degrees\n",
        "    transforms.RandomRotation(40),\n",
        "\n",
        "    transforms.RandomCrop(96, padding=4),\n",
        "\n",
        "    transforms.ColorJitter(brightness=0.2,\n",
        "                           contrast=0.2,\n",
        "                           saturation=0.2,\n",
        "                           hue=0.1),\n",
        "\n",
        "    # Convert PIL images to PyTorch tensors\n",
        "    transforms.ToTensor(),\n",
        "\n",
        "    # Normalize tensor values to be between -1 and 1\n",
        "    # Parameters are (mean, std) for each channel\n",
        "    transforms.Normalize((0.5, 0.5, 0.5), (0.5, 0.5, 0.5))\n",
        "])\n",
        "\n",
        "# Create augmented training dataset using the transformations defined above\n",
        "trainset_aug = torchvision.datasets.STL10(root='./data', split='train', download=True, transform=aug_transform)\n",
        "\n",
        "# Create data loader for the augmented training set\n",
        "# This handles batching, shuffling and loading the data\n",
        "trainloader_aug = torch.utils.data.DataLoader(trainset_aug, batch_size=BATCH_SIZE, shuffle=True)\n",
        "\n",
        "print(\"Augmenting training set images...\")"
      ]
    },
    {
      "cell_type": "code",
      "execution_count": null,
      "metadata": {
        "colab": {
          "base_uri": "https://localhost:8080/"
        },
        "id": "nAad6ncXm-6Y",
        "outputId": "86c7732e-cf50-4b94-a43e-25a79d88b765"
      },
      "outputs": [
        {
          "name": "stdout",
          "output_type": "stream",
          "text": [
            "Deep CNN network defined.\n"
          ]
        }
      ],
      "source": [
        "# Define a deeper model\n",
        "class DeepCNN(nn.Module):\n",
        "    def __init__(self):\n",
        "        super(DeepCNN, self).__init__()\n",
        "        self.conv1 = nn.Conv2d(3, 32, kernel_size=3, padding=1)\n",
        "        self.conv2 = nn.Conv2d(32, 64, kernel_size=3, padding=1)\n",
        "        self.conv3 = nn.Conv2d(64, 128, kernel_size=3, padding=1)\n",
        "        self.pool = nn.MaxPool2d(kernel_size=2, stride=2)\n",
        "        self.dropout1 = nn.Dropout(0.25)\n",
        "        self.fc1 = nn.Linear(128 * 12 * 12, 128)\n",
        "        self.dropout2 = nn.Dropout(0.5)\n",
        "        self.fc2 = nn.Linear(128, N_CLASSES)\n",
        "\n",
        "    def forward(self, x):\n",
        "        x = self.pool(F.relu(self.conv1(x)))\n",
        "        x = self.dropout1(x)\n",
        "        x = self.pool(F.relu(self.conv2(x)))\n",
        "        x = self.dropout1(x)\n",
        "        x = self.pool(F.relu(self.conv3(x)))\n",
        "        x = self.dropout1(x)\n",
        "        x = torch.flatten(x, 1)\n",
        "        x = F.relu(self.fc1(x))\n",
        "        x = self.dropout2(x)\n",
        "        x = self.fc2(x)\n",
        "        return x\n",
        "\n",
        "print('Deep CNN network defined.')\n"
      ]
    },
    {
      "cell_type": "code",
      "execution_count": 9,
      "metadata": {
        "id": "hRLD_jAepUFg"
      },
      "outputs": [],
      "source": [
        "class EarlyStopping:\n",
        "    def __init__(self, patience=5, verbose=False, min_delta=0):\n",
        "        self.patience = patience\n",
        "        self.verbose = verbose\n",
        "        self.min_delta = min_delta\n",
        "        self.counter = 0\n",
        "        self.best_score = None\n",
        "        self.early_stop = False\n",
        "\n",
        "    def __call__(self, val_loss):\n",
        "      score = -val_loss\n",
        "      if self.best_score is None:\n",
        "          self.best_score = score\n",
        "      elif score < self.best_score + self.min_delta:\n",
        "          self.counter += 1\n",
        "          if self.verbose:\n",
        "              print(f\"EarlyStopping counter: {self.counter} out of {self.patience}\")\n",
        "          if self.counter >= self.patience:\n",
        "              self.early_stop = True\n",
        "      else:\n",
        "          self.best_score = score\n",
        "          self.counter = 0"
      ]
    },
    {
      "cell_type": "code",
      "execution_count": null,
      "metadata": {
        "id": "OMrssOW4m7z3"
      },
      "outputs": [],
      "source": [
        "device = torch.device(\"cuda\" if torch.cuda.is_available() else \"cpu\")\n",
        "model = DeepCNN().to(device)\n",
        "\n",
        "# Define validation split\n",
        "dataset_size = len(trainset_aug)\n",
        "val_size = int(VALIDATION_SPLIT * dataset_size)\n",
        "train_size = dataset_size - val_size\n",
        "train_dataset, val_dataset = torch.utils.data.random_split(trainset_aug, [train_size, val_size])\n",
        "\n",
        "# trainloader = torch.utils.data.DataLoader(train_dataset, batch_size=BATCH_SIZE, shuffle=True)\n",
        "valloader = torch.utils.data.DataLoader(val_dataset, batch_size=BATCH_SIZE, shuffle=False)\n",
        "\n",
        "# Define loss and optimizer\n",
        "criterion = nn.CrossEntropyLoss()\n",
        "optimizer = optim.AdamW(model.parameters(), lr=0.001, weight_decay=1e-5)\n",
        "scheduler = ReduceLROnPlateau(optimizer, mode='min', factor=0.5, patience=5, min_lr=1e-6, verbose=True)\n",
        "# 얼리스탑 객체 생성\n",
        "early_stopping = EarlyStopping(patience=10, min_delta=1e-4, verbose=True)\n",
        "\n",
        "# Training function\n",
        "def train_model():\n",
        "    history = {'loss': [], 'val_loss': [], 'accuracy': [], 'val_accuracy': []}\n",
        "\n",
        "    for epoch in range(N_EPOCH):\n",
        "        model.train()\n",
        "        running_loss = 0.0\n",
        "        correct, total = 0, 0\n",
        "\n",
        "        for inputs, labels in trainloader_aug:\n",
        "            inputs, labels = inputs.to(device), labels.to(device)\n",
        "            optimizer.zero_grad()\n",
        "            outputs = model(inputs)\n",
        "            loss = criterion(outputs, labels)\n",
        "            loss.backward()\n",
        "            optimizer.step()\n",
        "\n",
        "            running_loss += loss.item()\n",
        "            _, predicted = torch.max(outputs, 1)\n",
        "            total += labels.size(0)\n",
        "            correct += (predicted == labels).sum().item()\n",
        "\n",
        "        val_loss, val_correct, val_total = 0.0, 0, 0\n",
        "        model.eval()\n",
        "        with torch.no_grad():\n",
        "            for inputs, labels in valloader:\n",
        "                inputs, labels = inputs.to(device), labels.to(device)\n",
        "                outputs = model(inputs)\n",
        "                loss = criterion(outputs, labels)\n",
        "                val_loss += loss.item()\n",
        "                _, predicted = torch.max(outputs, 1)\n",
        "                val_total += labels.size(0)\n",
        "                val_correct += (predicted == labels).sum().item()\n",
        "\n",
        "        history['loss'].append(running_loss / len(trainloader_aug))\n",
        "        history['val_loss'].append(val_loss / len(valloader))\n",
        "        scheduler.step(history['val_loss'][-1])\n",
        "        history['accuracy'].append(correct / total)\n",
        "        history['val_accuracy'].append(val_correct / val_total)\n",
        "        print(f\"Epoch {epoch+1}/{N_EPOCH}, Loss: {history['loss'][-1]:.4f}, Accuracy: {history['accuracy'][-1]:.4f}, Val Loss: {history['val_loss'][-1]:.4f}, Val Accuracy: {history['val_accuracy'][-1]:.4f}\")\n",
        "        early_stopping(val_loss)\n",
        "\n",
        "        if early_stopping.early_stop:\n",
        "          print(\"Early stopping\")\n",
        "          break\n",
        "\n",
        "    print('Training complete.')\n",
        "    return history"
      ]
    },
    {
      "cell_type": "code",
      "execution_count": 11,
      "metadata": {
        "colab": {
          "base_uri": "https://localhost:8080/"
        },
        "id": "qHiQB9Blh64R",
        "outputId": "a9973461-9dfd-4a2e-b951-5fcfb546b5d0"
      },
      "outputs": [
        {
          "name": "stdout",
          "output_type": "stream",
          "text": [
            "Epoch 1/120, Loss: 2.1766, Accuracy: 0.1686, Val Loss: 2.0090, Val Accuracy: 0.2640\n",
            "Epoch 2/120, Loss: 1.9043, Accuracy: 0.2938, Val Loss: 1.7857, Val Accuracy: 0.3230\n",
            "Epoch 3/120, Loss: 1.7781, Accuracy: 0.3180, Val Loss: 1.6721, Val Accuracy: 0.3780\n",
            "Epoch 4/120, Loss: 1.7006, Accuracy: 0.3582, Val Loss: 1.6161, Val Accuracy: 0.3970\n",
            "Epoch 5/120, Loss: 1.6578, Accuracy: 0.3632, Val Loss: 1.5545, Val Accuracy: 0.3950\n",
            "Epoch 6/120, Loss: 1.6014, Accuracy: 0.3936, Val Loss: 1.5514, Val Accuracy: 0.4230\n",
            "Epoch 7/120, Loss: 1.5732, Accuracy: 0.3968, Val Loss: 1.4775, Val Accuracy: 0.4610\n",
            "Epoch 8/120, Loss: 1.5257, Accuracy: 0.4244, Val Loss: 1.4457, Val Accuracy: 0.4740\n",
            "Epoch 9/120, Loss: 1.5154, Accuracy: 0.4244, Val Loss: 1.4139, Val Accuracy: 0.4750\n",
            "Epoch 10/120, Loss: 1.5010, Accuracy: 0.4424, Val Loss: 1.3846, Val Accuracy: 0.4970\n",
            "Epoch 11/120, Loss: 1.4599, Accuracy: 0.4484, Val Loss: 1.3302, Val Accuracy: 0.5110\n",
            "Epoch 12/120, Loss: 1.4474, Accuracy: 0.4586, Val Loss: 1.3305, Val Accuracy: 0.5180\n",
            "EarlyStopping counter: 1 out of 10\n",
            "Epoch 13/120, Loss: 1.4135, Accuracy: 0.4738, Val Loss: 1.2921, Val Accuracy: 0.5280\n",
            "Epoch 14/120, Loss: 1.4262, Accuracy: 0.4668, Val Loss: 1.3142, Val Accuracy: 0.5110\n",
            "EarlyStopping counter: 1 out of 10\n",
            "Epoch 15/120, Loss: 1.4059, Accuracy: 0.4744, Val Loss: 1.2904, Val Accuracy: 0.5500\n",
            "Epoch 16/120, Loss: 1.3765, Accuracy: 0.4836, Val Loss: 1.2567, Val Accuracy: 0.5410\n",
            "Epoch 17/120, Loss: 1.3707, Accuracy: 0.4802, Val Loss: 1.2239, Val Accuracy: 0.5650\n",
            "Epoch 18/120, Loss: 1.3761, Accuracy: 0.4876, Val Loss: 1.2500, Val Accuracy: 0.5490\n",
            "EarlyStopping counter: 1 out of 10\n",
            "Epoch 19/120, Loss: 1.3693, Accuracy: 0.4854, Val Loss: 1.2644, Val Accuracy: 0.5340\n",
            "EarlyStopping counter: 2 out of 10\n",
            "Epoch 20/120, Loss: 1.3331, Accuracy: 0.4994, Val Loss: 1.2257, Val Accuracy: 0.5510\n",
            "EarlyStopping counter: 3 out of 10\n",
            "Epoch 21/120, Loss: 1.3291, Accuracy: 0.4962, Val Loss: 1.1381, Val Accuracy: 0.6000\n",
            "Epoch 22/120, Loss: 1.2974, Accuracy: 0.5148, Val Loss: 1.1180, Val Accuracy: 0.5820\n",
            "Epoch 23/120, Loss: 1.2844, Accuracy: 0.5254, Val Loss: 1.1375, Val Accuracy: 0.5800\n",
            "EarlyStopping counter: 1 out of 10\n",
            "Epoch 24/120, Loss: 1.3162, Accuracy: 0.5148, Val Loss: 1.1785, Val Accuracy: 0.5760\n",
            "EarlyStopping counter: 2 out of 10\n",
            "Epoch 25/120, Loss: 1.2908, Accuracy: 0.5210, Val Loss: 1.1406, Val Accuracy: 0.5890\n",
            "EarlyStopping counter: 3 out of 10\n",
            "Epoch 26/120, Loss: 1.2764, Accuracy: 0.5254, Val Loss: 1.1143, Val Accuracy: 0.6210\n",
            "Epoch 27/120, Loss: 1.2397, Accuracy: 0.5368, Val Loss: 1.0643, Val Accuracy: 0.6170\n",
            "Epoch 28/120, Loss: 1.2838, Accuracy: 0.5222, Val Loss: 1.1057, Val Accuracy: 0.6020\n",
            "EarlyStopping counter: 1 out of 10\n",
            "Epoch 29/120, Loss: 1.2550, Accuracy: 0.5326, Val Loss: 1.1080, Val Accuracy: 0.6210\n",
            "EarlyStopping counter: 2 out of 10\n",
            "Epoch 30/120, Loss: 1.2790, Accuracy: 0.5234, Val Loss: 1.0959, Val Accuracy: 0.6140\n",
            "EarlyStopping counter: 3 out of 10\n",
            "Epoch 31/120, Loss: 1.2374, Accuracy: 0.5286, Val Loss: 1.0760, Val Accuracy: 0.6240\n",
            "EarlyStopping counter: 4 out of 10\n",
            "Epoch 32/120, Loss: 1.2419, Accuracy: 0.5434, Val Loss: 1.1032, Val Accuracy: 0.6010\n",
            "EarlyStopping counter: 5 out of 10\n",
            "Epoch 33/120, Loss: 1.2579, Accuracy: 0.5316, Val Loss: 1.0733, Val Accuracy: 0.6070\n",
            "EarlyStopping counter: 6 out of 10\n",
            "Epoch 34/120, Loss: 1.2035, Accuracy: 0.5534, Val Loss: 1.0300, Val Accuracy: 0.6220\n",
            "Epoch 35/120, Loss: 1.1905, Accuracy: 0.5552, Val Loss: 1.0063, Val Accuracy: 0.6200\n",
            "Epoch 36/120, Loss: 1.1693, Accuracy: 0.5680, Val Loss: 1.0083, Val Accuracy: 0.6520\n",
            "EarlyStopping counter: 1 out of 10\n",
            "Epoch 37/120, Loss: 1.1583, Accuracy: 0.5684, Val Loss: 0.9717, Val Accuracy: 0.6430\n",
            "Epoch 38/120, Loss: 1.1644, Accuracy: 0.5706, Val Loss: 0.9873, Val Accuracy: 0.6420\n",
            "EarlyStopping counter: 1 out of 10\n",
            "Epoch 39/120, Loss: 1.1499, Accuracy: 0.5716, Val Loss: 0.9664, Val Accuracy: 0.6520\n",
            "Epoch 40/120, Loss: 1.1534, Accuracy: 0.5728, Val Loss: 0.9563, Val Accuracy: 0.6710\n",
            "Epoch 41/120, Loss: 1.1675, Accuracy: 0.5632, Val Loss: 0.9530, Val Accuracy: 0.6610\n",
            "Epoch 42/120, Loss: 1.1521, Accuracy: 0.5754, Val Loss: 0.9778, Val Accuracy: 0.6380\n",
            "EarlyStopping counter: 1 out of 10\n",
            "Epoch 43/120, Loss: 1.1412, Accuracy: 0.5760, Val Loss: 0.9443, Val Accuracy: 0.6890\n",
            "Epoch 44/120, Loss: 1.1383, Accuracy: 0.5728, Val Loss: 0.9313, Val Accuracy: 0.6610\n",
            "Epoch 45/120, Loss: 1.1264, Accuracy: 0.5790, Val Loss: 0.9953, Val Accuracy: 0.6450\n",
            "EarlyStopping counter: 1 out of 10\n",
            "Epoch 46/120, Loss: 1.1232, Accuracy: 0.5820, Val Loss: 0.9646, Val Accuracy: 0.6570\n",
            "EarlyStopping counter: 2 out of 10\n",
            "Epoch 47/120, Loss: 1.1104, Accuracy: 0.5922, Val Loss: 0.9445, Val Accuracy: 0.6520\n",
            "EarlyStopping counter: 3 out of 10\n",
            "Epoch 48/120, Loss: 1.1057, Accuracy: 0.5846, Val Loss: 0.9215, Val Accuracy: 0.6710\n",
            "Epoch 49/120, Loss: 1.1043, Accuracy: 0.5822, Val Loss: 0.9485, Val Accuracy: 0.6690\n",
            "EarlyStopping counter: 1 out of 10\n",
            "Epoch 50/120, Loss: 1.1130, Accuracy: 0.5882, Val Loss: 0.9820, Val Accuracy: 0.6280\n",
            "EarlyStopping counter: 2 out of 10\n",
            "Epoch 51/120, Loss: 1.1051, Accuracy: 0.5936, Val Loss: 0.9447, Val Accuracy: 0.6830\n",
            "EarlyStopping counter: 3 out of 10\n",
            "Epoch 52/120, Loss: 1.0931, Accuracy: 0.5968, Val Loss: 0.9096, Val Accuracy: 0.6580\n",
            "Epoch 53/120, Loss: 1.1258, Accuracy: 0.5856, Val Loss: 0.9509, Val Accuracy: 0.6780\n",
            "EarlyStopping counter: 1 out of 10\n",
            "Epoch 54/120, Loss: 1.1117, Accuracy: 0.5900, Val Loss: 0.9310, Val Accuracy: 0.6660\n",
            "EarlyStopping counter: 2 out of 10\n",
            "Epoch 55/120, Loss: 1.0972, Accuracy: 0.5930, Val Loss: 0.9130, Val Accuracy: 0.6830\n",
            "EarlyStopping counter: 3 out of 10\n",
            "Epoch 56/120, Loss: 1.0839, Accuracy: 0.6048, Val Loss: 0.8884, Val Accuracy: 0.6920\n",
            "Epoch 57/120, Loss: 1.1053, Accuracy: 0.5910, Val Loss: 0.9219, Val Accuracy: 0.6690\n",
            "EarlyStopping counter: 1 out of 10\n",
            "Epoch 58/120, Loss: 1.0935, Accuracy: 0.5888, Val Loss: 0.9226, Val Accuracy: 0.6600\n",
            "EarlyStopping counter: 2 out of 10\n",
            "Epoch 59/120, Loss: 1.1076, Accuracy: 0.5968, Val Loss: 0.9247, Val Accuracy: 0.6650\n",
            "EarlyStopping counter: 3 out of 10\n",
            "Epoch 60/120, Loss: 1.0937, Accuracy: 0.5958, Val Loss: 0.9125, Val Accuracy: 0.6960\n",
            "EarlyStopping counter: 4 out of 10\n",
            "Epoch 61/120, Loss: 1.0918, Accuracy: 0.6028, Val Loss: 0.8947, Val Accuracy: 0.6930\n",
            "EarlyStopping counter: 5 out of 10\n",
            "Epoch 62/120, Loss: 1.0722, Accuracy: 0.5930, Val Loss: 0.8853, Val Accuracy: 0.6860\n",
            "Epoch 63/120, Loss: 1.0932, Accuracy: 0.5972, Val Loss: 0.8948, Val Accuracy: 0.6850\n",
            "EarlyStopping counter: 1 out of 10\n",
            "Epoch 64/120, Loss: 1.0701, Accuracy: 0.6040, Val Loss: 0.8857, Val Accuracy: 0.6990\n",
            "EarlyStopping counter: 2 out of 10\n",
            "Epoch 65/120, Loss: 1.0723, Accuracy: 0.6032, Val Loss: 0.8811, Val Accuracy: 0.6850\n",
            "Epoch 66/120, Loss: 1.0459, Accuracy: 0.6100, Val Loss: 0.8705, Val Accuracy: 0.7050\n",
            "Epoch 67/120, Loss: 1.0792, Accuracy: 0.6024, Val Loss: 0.8751, Val Accuracy: 0.6960\n",
            "EarlyStopping counter: 1 out of 10\n",
            "Epoch 68/120, Loss: 1.0535, Accuracy: 0.6030, Val Loss: 0.8611, Val Accuracy: 0.6880\n",
            "Epoch 69/120, Loss: 1.0567, Accuracy: 0.6054, Val Loss: 0.8476, Val Accuracy: 0.6940\n",
            "Epoch 70/120, Loss: 1.0611, Accuracy: 0.6024, Val Loss: 0.8538, Val Accuracy: 0.6870\n",
            "EarlyStopping counter: 1 out of 10\n",
            "Epoch 71/120, Loss: 1.0518, Accuracy: 0.6106, Val Loss: 0.8494, Val Accuracy: 0.6990\n",
            "EarlyStopping counter: 2 out of 10\n",
            "Epoch 72/120, Loss: 1.0636, Accuracy: 0.6058, Val Loss: 0.8426, Val Accuracy: 0.7050\n",
            "Epoch 73/120, Loss: 1.0464, Accuracy: 0.6112, Val Loss: 0.8308, Val Accuracy: 0.7050\n",
            "Epoch 74/120, Loss: 1.0294, Accuracy: 0.6162, Val Loss: 0.8598, Val Accuracy: 0.6890\n",
            "EarlyStopping counter: 1 out of 10\n",
            "Epoch 75/120, Loss: 1.0546, Accuracy: 0.6052, Val Loss: 0.8563, Val Accuracy: 0.6900\n",
            "EarlyStopping counter: 2 out of 10\n",
            "Epoch 76/120, Loss: 1.0145, Accuracy: 0.6190, Val Loss: 0.8374, Val Accuracy: 0.7040\n",
            "EarlyStopping counter: 3 out of 10\n",
            "Epoch 77/120, Loss: 1.0475, Accuracy: 0.6032, Val Loss: 0.8076, Val Accuracy: 0.7100\n",
            "Epoch 78/120, Loss: 1.0578, Accuracy: 0.6120, Val Loss: 0.8244, Val Accuracy: 0.7230\n",
            "EarlyStopping counter: 1 out of 10\n",
            "Epoch 79/120, Loss: 1.0334, Accuracy: 0.6264, Val Loss: 0.8072, Val Accuracy: 0.7120\n",
            "Epoch 80/120, Loss: 1.0303, Accuracy: 0.6150, Val Loss: 0.8441, Val Accuracy: 0.6810\n",
            "EarlyStopping counter: 1 out of 10\n",
            "Epoch 81/120, Loss: 1.0163, Accuracy: 0.6256, Val Loss: 0.8201, Val Accuracy: 0.7180\n",
            "EarlyStopping counter: 2 out of 10\n",
            "Epoch 82/120, Loss: 1.0361, Accuracy: 0.6208, Val Loss: 0.8393, Val Accuracy: 0.7010\n",
            "EarlyStopping counter: 3 out of 10\n",
            "Epoch 83/120, Loss: 1.0176, Accuracy: 0.6170, Val Loss: 0.8123, Val Accuracy: 0.7070\n",
            "EarlyStopping counter: 4 out of 10\n",
            "Epoch 84/120, Loss: 1.0301, Accuracy: 0.6154, Val Loss: 0.8030, Val Accuracy: 0.7090\n",
            "Epoch 85/120, Loss: 1.0273, Accuracy: 0.6208, Val Loss: 0.8386, Val Accuracy: 0.7040\n",
            "EarlyStopping counter: 1 out of 10\n",
            "Epoch 86/120, Loss: 1.0409, Accuracy: 0.6122, Val Loss: 0.8261, Val Accuracy: 0.7160\n",
            "EarlyStopping counter: 2 out of 10\n",
            "Epoch 87/120, Loss: 1.0226, Accuracy: 0.6216, Val Loss: 0.8583, Val Accuracy: 0.7000\n",
            "EarlyStopping counter: 3 out of 10\n",
            "Epoch 88/120, Loss: 1.0440, Accuracy: 0.6130, Val Loss: 0.8164, Val Accuracy: 0.7250\n",
            "EarlyStopping counter: 4 out of 10\n",
            "Epoch 89/120, Loss: 0.9932, Accuracy: 0.6314, Val Loss: 0.7897, Val Accuracy: 0.7310\n",
            "Epoch 90/120, Loss: 1.0056, Accuracy: 0.6326, Val Loss: 0.8060, Val Accuracy: 0.7140\n",
            "EarlyStopping counter: 1 out of 10\n",
            "Epoch 91/120, Loss: 1.0176, Accuracy: 0.6216, Val Loss: 0.7846, Val Accuracy: 0.7190\n",
            "Epoch 92/120, Loss: 1.0096, Accuracy: 0.6284, Val Loss: 0.7797, Val Accuracy: 0.7220\n",
            "Epoch 93/120, Loss: 0.9908, Accuracy: 0.6334, Val Loss: 0.7625, Val Accuracy: 0.7360\n",
            "Epoch 94/120, Loss: 0.9699, Accuracy: 0.6422, Val Loss: 0.7656, Val Accuracy: 0.7310\n",
            "EarlyStopping counter: 1 out of 10\n",
            "Epoch 95/120, Loss: 0.9918, Accuracy: 0.6390, Val Loss: 0.7704, Val Accuracy: 0.7140\n",
            "EarlyStopping counter: 2 out of 10\n",
            "Epoch 96/120, Loss: 1.0089, Accuracy: 0.6230, Val Loss: 0.7631, Val Accuracy: 0.7240\n",
            "EarlyStopping counter: 3 out of 10\n",
            "Epoch 97/120, Loss: 0.9885, Accuracy: 0.6254, Val Loss: 0.7780, Val Accuracy: 0.7210\n",
            "EarlyStopping counter: 4 out of 10\n",
            "Epoch 98/120, Loss: 0.9916, Accuracy: 0.6294, Val Loss: 0.7825, Val Accuracy: 0.7140\n",
            "EarlyStopping counter: 5 out of 10\n",
            "Epoch 99/120, Loss: 0.9740, Accuracy: 0.6382, Val Loss: 0.7480, Val Accuracy: 0.7310\n",
            "Epoch 100/120, Loss: 0.9686, Accuracy: 0.6468, Val Loss: 0.7713, Val Accuracy: 0.7080\n",
            "EarlyStopping counter: 1 out of 10\n",
            "Epoch 101/120, Loss: 1.0000, Accuracy: 0.6314, Val Loss: 0.7747, Val Accuracy: 0.7370\n",
            "EarlyStopping counter: 2 out of 10\n",
            "Epoch 102/120, Loss: 0.9828, Accuracy: 0.6304, Val Loss: 0.7742, Val Accuracy: 0.7210\n",
            "EarlyStopping counter: 3 out of 10\n",
            "Epoch 103/120, Loss: 0.9855, Accuracy: 0.6390, Val Loss: 0.7394, Val Accuracy: 0.7520\n",
            "Epoch 104/120, Loss: 1.0116, Accuracy: 0.6258, Val Loss: 0.7773, Val Accuracy: 0.7380\n",
            "EarlyStopping counter: 1 out of 10\n",
            "Epoch 105/120, Loss: 0.9608, Accuracy: 0.6414, Val Loss: 0.7610, Val Accuracy: 0.7350\n",
            "EarlyStopping counter: 2 out of 10\n",
            "Epoch 106/120, Loss: 0.9772, Accuracy: 0.6320, Val Loss: 0.7260, Val Accuracy: 0.7530\n",
            "Epoch 107/120, Loss: 0.9768, Accuracy: 0.6334, Val Loss: 0.7763, Val Accuracy: 0.7160\n",
            "EarlyStopping counter: 1 out of 10\n",
            "Epoch 108/120, Loss: 0.9853, Accuracy: 0.6348, Val Loss: 0.7714, Val Accuracy: 0.7450\n",
            "EarlyStopping counter: 2 out of 10\n",
            "Epoch 109/120, Loss: 0.9574, Accuracy: 0.6406, Val Loss: 0.7319, Val Accuracy: 0.7520\n",
            "EarlyStopping counter: 3 out of 10\n",
            "Epoch 110/120, Loss: 0.9759, Accuracy: 0.6410, Val Loss: 0.7417, Val Accuracy: 0.7360\n",
            "EarlyStopping counter: 4 out of 10\n",
            "Epoch 111/120, Loss: 0.9640, Accuracy: 0.6450, Val Loss: 0.7311, Val Accuracy: 0.7460\n",
            "EarlyStopping counter: 5 out of 10\n",
            "Epoch 112/120, Loss: 0.9480, Accuracy: 0.6486, Val Loss: 0.7244, Val Accuracy: 0.7600\n",
            "Epoch 113/120, Loss: 0.9645, Accuracy: 0.6436, Val Loss: 0.7099, Val Accuracy: 0.7450\n",
            "Epoch 114/120, Loss: 0.9480, Accuracy: 0.6498, Val Loss: 0.7513, Val Accuracy: 0.7330\n",
            "EarlyStopping counter: 1 out of 10\n",
            "Epoch 115/120, Loss: 0.9585, Accuracy: 0.6386, Val Loss: 0.7305, Val Accuracy: 0.7510\n",
            "EarlyStopping counter: 2 out of 10\n",
            "Epoch 116/120, Loss: 0.9473, Accuracy: 0.6462, Val Loss: 0.7540, Val Accuracy: 0.7320\n",
            "EarlyStopping counter: 3 out of 10\n",
            "Epoch 117/120, Loss: 0.9519, Accuracy: 0.6474, Val Loss: 0.7265, Val Accuracy: 0.7400\n",
            "EarlyStopping counter: 4 out of 10\n",
            "Epoch 118/120, Loss: 0.9496, Accuracy: 0.6534, Val Loss: 0.7059, Val Accuracy: 0.7630\n",
            "Epoch 119/120, Loss: 0.9470, Accuracy: 0.6516, Val Loss: 0.7276, Val Accuracy: 0.7540\n",
            "EarlyStopping counter: 1 out of 10\n",
            "Epoch 120/120, Loss: 0.9453, Accuracy: 0.6564, Val Loss: 0.7098, Val Accuracy: 0.7460\n",
            "EarlyStopping counter: 2 out of 10\n",
            "Training complete.\n"
          ]
        }
      ],
      "source": [
        "history = train_model()"
      ]
    },
    {
      "cell_type": "code",
      "execution_count": 11,
      "metadata": {
        "colab": {
          "base_uri": "https://localhost:8080/"
        },
        "id": "6wsDuLgvh8tK",
        "outputId": "a316d7f0-1b7a-42a4-f6f1-f52138e71790"
      },
      "outputs": [
        {
          "name": "stdout",
          "output_type": "stream",
          "text": [
            "Model and weights saved successfully.\n"
          ]
        }
      ],
      "source": [
        "# Save model state dictionary\n",
        "torch.save(model.state_dict(), 'cnn_aug120_model.pth')\n",
        "\n",
        "# Save entire model\n",
        "torch.save(model, 'cnn_aug120_model_full.pth')\n",
        "\n",
        "print('Model and weights saved successfully.')"
      ]
    },
    {
      "cell_type": "code",
      "execution_count": 12,
      "metadata": {
        "colab": {
          "base_uri": "https://localhost:8080/",
          "height": 981
        },
        "id": "HkCjP3bLh_jl",
        "outputId": "b14d1fdf-57e8-4ab9-8e0b-9f1a5938be07"
      },
      "outputs": [
        {
          "name": "stdout",
          "output_type": "stream",
          "text": [
            "\n",
            "Test loss: 0.9359\n",
            "Test accuracy: 67.47%\n"
          ]
        },
        {
          "data": {
            "image/png": "[encoded data removed]",
            "text/plain": [
              "<Figure size 640x480 with 1 Axes>"
            ]
          },
          "metadata": {},
          "output_type": "display_data"
        },
        {
          "data": {
            "image/png": "[encoded data removed]",
            "text/plain": [
              "<Figure size 640x480 with 1 Axes>"
            ]
          },
          "metadata": {},
          "output_type": "display_data"
        }
      ],
      "source": [
        "# Testing the model\n",
        "model.eval()\n",
        "test_loss = 0\n",
        "correct = 0\n",
        "total = 0\n",
        "with torch.no_grad():\n",
        "    for inputs, labels in testloader:\n",
        "        inputs, labels = inputs.to(device), labels.to(device)\n",
        "        outputs = model(inputs)\n",
        "        test_loss += criterion(outputs, labels).item()\n",
        "        _, predicted = torch.max(outputs, 1)\n",
        "        total += labels.size(0)\n",
        "        correct += (predicted == labels).sum().item()\n",
        "\n",
        "test_loss /= len(testloader)\n",
        "test_accuracy = 100. * correct / total\n",
        "\n",
        "print(f\"\\nTest loss: {test_loss:.4f}\")\n",
        "print(f\"Test accuracy: {test_accuracy:.2f}%\")\n",
        "\n",
        "# Plot training history\n",
        "plt.plot(history['accuracy'])\n",
        "plt.plot(history['val_accuracy'])\n",
        "plt.title('Model Accuracy')\n",
        "plt.ylabel('Accuracy')\n",
        "plt.xlabel('Epoch')\n",
        "plt.legend(['Train', 'Validation'], loc='upper left')\n",
        "plt.show()\n",
        "\n",
        "# Plot loss history\n",
        "plt.plot(history['loss'])\n",
        "plt.plot(history['val_loss'])\n",
        "plt.title('Model Loss')\n",
        "plt.ylabel('Loss')\n",
        "plt.xlabel('Epoch')\n",
        "plt.legend(['Train', 'Validation'], loc='upper left')\n",
        "plt.show()\n"
      ]
    }
  ],
  "metadata": {
    "accelerator": "GPU",
    "colab": {
      "gpuType": "T4",
      "provenance": []
    },
    "kernelspec": {
      "display_name": "tm",
      "language": "python",
      "name": "python3"
    },
    "language_info": {
      "codemirror_mode": {
        "name": "ipython",
        "version": 3
      },
      "file_extension": ".py",
      "mimetype": "text/x-python",
      "name": "python",
      "nbconvert_exporter": "python",
      "pygments_lexer": "ipython3",
      "version": "3.8.20"
    }
  },
  "nbformat": 4,
  "nbformat_minor": 0
}
