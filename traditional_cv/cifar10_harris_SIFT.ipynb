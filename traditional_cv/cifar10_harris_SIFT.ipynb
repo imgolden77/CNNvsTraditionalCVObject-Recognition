{
 "cells": [
  {
   "cell_type": "code",
   "execution_count": null,
   "id": "b246715c",
   "metadata": {},
   "outputs": [
    {
     "data": {
      "image/png": "[encoded data removed]",
      "text/plain": [
       "<Figure size 640x480 with 1 Axes>"
      ]
     },
     "metadata": {},
     "output_type": "display_data"
    }
   ],
   "source": [
    "import numpy as np\n",
    "import os\n",
    "import matplotlib.pyplot as plt\n",
    "import pickle\n",
    "\n",
    "DATA_PATH = \"../data/cifar-10-batches-py\" \n",
    "IMG_SIZE = 32\n",
    "NUM_CHANNELS = 3\n",
    "\n",
    "def unpickle(file):\n",
    "    with open(file, 'rb') as f:\n",
    "        dict = pickle.load(f, encoding='bytes')\n",
    "    return dict\n",
    "\n",
    "def load_cifar10_batch(path_to_batch):\n",
    "    batch = unpickle(path_to_batch)\n",
    "    images = batch[b'data']\n",
    "    images = images.reshape(-1, NUM_CHANNELS, IMG_SIZE, IMG_SIZE)\n",
    "    images = np.transpose(images, (0, 2, 3, 1)) # (N, H, W, C)\n",
    "    labels = batch[b'labels']\n",
    "    return images, labels\n",
    "\n",
    "def load_cifar10_data(path_to_data):\n",
    "    X_train = []\n",
    "    y_train = []\n",
    "    for i in range(1, 6):\n",
    "        images, labels = load_cifar10_batch(os.path.join(path_to_data, f\"data_batch_{i}\"))\n",
    "    X_train.append(images)\n",
    "    y_train.append(labels)\n",
    "    X_train = np.concatenate(X_train)\n",
    "    y_train = np.concatenate(y_train)\n",
    "    X_test, y_test = load_cifar10_batch(os.path.join(path_to_data, \"test_batch\"))\n",
    "    return X_train, y_train, X_test, y_test\n",
    "\n",
    "X_train, y_train, X_test, y_test = load_cifar10_data(DATA_PATH)\n",
    "\n",
    "plt.imshow(X_train[0])\n",
    "plt.title(f\"Label: {y_train[0]}\")\n",
    "plt.axis('off')\n",
    "plt.show()\n"
   ]
  },
  {
   "cell_type": "code",
   "execution_count": null,
   "id": "54df9efd",
   "metadata": {},
   "outputs": [
    {
     "name": "stderr",
     "output_type": "stream",
     "text": [
      "/opt/anaconda3/envs/tm/lib/python3.8/site-packages/sklearn/cluster/_kmeans.py:1412: FutureWarning: The default value of `n_init` will change from 10 to 'auto' in 1.4. Set the value of `n_init` explicitly to suppress the warning\n",
      "  super()._check_params_vs_input(X, default_n_init=10)\n"
     ]
    },
    {
     "name": "stdout",
     "output_type": "stream",
     "text": [
      "Harris + BoVW + SVM Accuracy: 0.3702\n"
     ]
    }
   ],
   "source": [
    "import cv2\n",
    "from sklearn import svm\n",
    "from sklearn.cluster import KMeans\n",
    "from sklearn.preprocessing import StandardScaler\n",
    "from sklearn.metrics import accuracy_score\n",
    "\n",
    "def extract_harris_features(images):\n",
    "    descriptors_list = []\n",
    "    for img in images:\n",
    "        gray = cv2.cvtColor(img, cv2.COLOR_RGB2GRAY)\n",
    "        harris_corners = cv2.cornerHarris(gray, blockSize=2, ksize=3, k=0.04)\n",
    "        keypoints = np.argwhere(harris_corners > 0.01 * harris_corners.max())\n",
    "        keypoints = [cv2.KeyPoint(float(pt[1]), float(pt[0]), 1) for pt in keypoints]\n",
    "        sift = cv2.SIFT_create()\n",
    "        _, descriptors = sift.compute(gray, keypoints)\n",
    "        if descriptors is not None:\n",
    "            descriptors_list.append(descriptors)\n",
    "    return descriptors_list\n",
    "\n",
    "harris_train_descriptors = extract_harris_features(X_train)\n",
    "harris_test_descriptors = extract_harris_features(X_test)\n",
    "\n",
    "all_descriptors = np.vstack(harris_train_descriptors)\n",
    "\n",
    "num_clusters = 100\n",
    "kmeans = KMeans(n_clusters=num_clusters)\n",
    "kmeans.fit(all_descriptors)\n",
    "\n",
    "def create_histograms(descriptors_list, kmeans):\n",
    "    histograms = []\n",
    "    for descriptors in descriptors_list:\n",
    "        histogram = np.zeros(num_clusters)\n",
    "        if descriptors is not None:\n",
    "            cluster_indices = kmeans.predict(descriptors)\n",
    "            for idx in cluster_indices:\n",
    "                histogram[idx] += 1\n",
    "        histograms.append(histogram)\n",
    "    return np.array(histograms)\n",
    "\n",
    "train_histograms = create_histograms(harris_train_descriptors, kmeans)\n",
    "test_histograms = create_histograms(harris_test_descriptors, kmeans)\n",
    "\n",
    "scaler = StandardScaler()\n",
    "train_histograms = scaler.fit_transform(train_histograms)\n",
    "test_histograms = scaler.transform(test_histograms)\n",
    "\n",
    "svm_model = svm.SVC()\n",
    "svm_model.fit(train_histograms, y_train)\n",
    "svm_predictions = svm_model.predict(test_histograms)\n",
    "svm_accuracy = accuracy_score(y_test, svm_predictions)\n",
    "print(f\"Harris + BoVW + SVM Accuracy: {svm_accuracy}\")\n",
    "\n",
    "\n"
   ]
  }
 ],
 "metadata": {
  "kernelspec": {
   "display_name": "tm",
   "language": "python",
   "name": "python3"
  },
  "language_info": {
   "codemirror_mode": {
    "name": "ipython",
    "version": 3
   },
   "file_extension": ".py",
   "mimetype": "text/x-python",
   "name": "python",
   "nbconvert_exporter": "python",
   "pygments_lexer": "ipython3",
   "version": "3.8.20"
  }
 },
 "nbformat": 4,
 "nbformat_minor": 5
}
